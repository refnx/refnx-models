{
 "cells": [
  {
   "cell_type": "markdown",
   "id": "21f0328d",
   "metadata": {},
   "source": [
    "# Compare q values created by TOF simulator with those from a normal reduction\n",
    "\n",
    "The current refnx reduction does not create a detailed resolution kernel. However, `refnx-models` does have code to simulate a detailed kernel via Monte-Carlo.\n",
    "\n",
    "This notebook compares the Q values produced by the Monte Carlo simulation with those from reduction of a real sample. If they are equivalent then the detailed kernel produced by the Monte Carlo should be correct, and could be added to the dataset from the real sample"
   ]
  },
  {
   "cell_type": "code",
   "execution_count": 1,
   "id": "1cf9db16",
   "metadata": {},
   "outputs": [],
   "source": [
    "%matplotlib inline\n",
    "import numpy as np\n",
    "from tqdm import tqdm\n",
    "import matplotlib.pyplot as plt\n",
    "from scipy.integrate import simpson\n",
    "\n",
    "from tof_simulator import ReflectSimulator, SpectrumDist\n",
    "\n",
    "from refnx.reflect import Slab, Structure, SLD, ReflectModel\n",
    "from refnx.dataset import ReflectDataset\n",
    "from refnx.reduce import PlatypusNexus, PlatypusReduce, ReductionOptions"
   ]
  },
  {
   "cell_type": "code",
   "execution_count": 2,
   "id": "c49bb3e6",
   "metadata": {},
   "outputs": [
    {
     "name": "stderr",
     "output_type": "stream",
     "text": [
      "/Users/anz/miniconda3/envs/dev3/lib/python3.9/site-packages/refnx/reduce/platypusnexus.py:1805: UserWarning: The foreground width ([50]) estimate does not match the divergence of the beam ([32.01913071]). Consider checking with manual beam finder.\n",
      "  warnings.warn(\n",
      "/Users/anz/miniconda3/envs/dev3/lib/python3.9/site-packages/refnx/reduce/platypusnexus.py:1805: UserWarning: The foreground width ([50]) estimate does not match the divergence of the beam ([32.01863098]). Consider checking with manual beam finder.\n",
      "  warnings.warn(\n"
     ]
    }
   ],
   "source": [
    "# process some real data\n",
    "rdo = ReductionOptions(lo_wavelength=3.2, rebin_percent=2, hi_wavelength=18)\n",
    "d0 = PlatypusReduce('PLP0049278.nx.hdf')\n",
    "output = d0.reduce(\"PLP0049280.nx.hdf\", **rdo)\n",
    "dataset = output[0][0]\n",
    "dataset.sort()\n",
    "angles = output[1]['omega'][0]\n",
    "wavelength = output[1]['m_lambda'][0]\n",
    "pn = PlatypusNexus(\"PLP0049280.nx.hdf\")\n",
    "cat = pn.cat.cat\n",
    "_chod = pn.chod()\n",
    "dlambda = 100 * 0.68 *  _chod[1] / _chod[0]"
   ]
  },
  {
   "cell_type": "code",
   "execution_count": 3,
   "id": "aa131793",
   "metadata": {},
   "outputs": [
    {
     "data": {
      "text/plain": [
       "3.2819208039947663"
      ]
     },
     "execution_count": 3,
     "metadata": {},
     "output_type": "execute_result"
    }
   ],
   "source": [
    "dlambda"
   ]
  },
  {
   "cell_type": "code",
   "execution_count": 4,
   "id": "366c76aa",
   "metadata": {},
   "outputs": [],
   "source": [
    "air = SLD(0)\n",
    "sio2 = SLD(3.47)\n",
    "si = SLD(2.07)\n",
    "\n",
    "s = air | sio2(225, 3) | si(0, 3)\n",
    "model = ReflectModel(s, bkg=5e-7)"
   ]
  },
  {
   "cell_type": "code",
   "execution_count": 5,
   "id": "baa723fe",
   "metadata": {},
   "outputs": [
    {
     "name": "stderr",
     "output_type": "stream",
     "text": [
      "/Users/anz/miniconda3/envs/dev3/lib/python3.9/site-packages/refnx/reduce/platypusnexus.py:2934: RuntimeWarning: specular ridge search did not work properly using last known centre\n",
      "  warnings.warn(\n"
     ]
    }
   ],
   "source": [
    "simulator0 = ReflectSimulator(model, angles[0],\n",
    "                              direct_spectrum='PLP0049278.nx.hdf', rebin=2, lo_wavelength=3.2,\n",
    "                              L12=cat['collimation_distance'],\n",
    "                              L2S=cat['sample_distance'] - cat['slit3_distance'],\n",
    "                              footprint=65, \n",
    "                              gravity=True, dlambda=dlambda, )\n",
    "simulator0.sample(3400000)\n",
    "simulator0.sample_direct(1500000)"
   ]
  },
  {
   "cell_type": "code",
   "execution_count": 6,
   "id": "38ef9b44",
   "metadata": {},
   "outputs": [
    {
     "data": {
      "image/png": "[encoded data removed]",
      "text/plain": [
       "<Figure size 432x288 with 1 Axes>"
      ]
     },
     "metadata": {
      "needs_background": "light"
     },
     "output_type": "display_data"
    }
   ],
   "source": [
    "plt.plot(dataset.x)\n",
    "plt.plot(np.sort(simulator0.q));"
   ]
  },
  {
   "cell_type": "markdown",
   "id": "3994e013",
   "metadata": {},
   "source": [
    "As we see in the above graph, the two sets of Q values overlap each other. We can therefore inject the detailed kernel from the MC simulation into a real dataset."
   ]
  },
  {
   "cell_type": "code",
   "execution_count": 7,
   "id": "dffdb597",
   "metadata": {},
   "outputs": [
    {
     "data": {
      "image/png": "[encoded data removed]",
      "text/plain": [
       "<Figure size 432x288 with 1 Axes>"
      ]
     },
     "metadata": {
      "needs_background": "light"
     },
     "output_type": "display_data"
    }
   ],
   "source": [
    "simulator0.reflectivity.plot()\n",
    "plt.yscale('log')"
   ]
  },
  {
   "cell_type": "code",
   "execution_count": null,
   "id": "138d50bd",
   "metadata": {},
   "outputs": [],
   "source": [
    "simulator0.sample(10000000)\n",
    "rk = simulator0.resolution_kernel[0]\n",
    "plt.plot(rk[0], rk[1])\n",
    "simpson(rk[1], x=rk[0])"
   ]
  },
  {
   "cell_type": "code",
   "execution_count": null,
   "id": "093c9d66",
   "metadata": {
    "scrolled": true
   },
   "outputs": [],
   "source": [
    "dataset.x_err = simulator0.resolution_kernel"
   ]
  }
 ],
 "metadata": {
  "kernelspec": {
   "display_name": "Python 3 (ipykernel)",
   "language": "python",
   "name": "python3"
  },
  "language_info": {
   "codemirror_mode": {
    "name": "ipython",
    "version": 3
   },
   "file_extension": ".py",
   "mimetype": "text/x-python",
   "name": "python",
   "nbconvert_exporter": "python",
   "pygments_lexer": "ipython3",
   "version": "3.9.12"
  }
 },
 "nbformat": 4,
 "nbformat_minor": 5
}
