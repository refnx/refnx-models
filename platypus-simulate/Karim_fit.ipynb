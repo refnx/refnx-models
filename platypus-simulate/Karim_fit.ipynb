{
 "cells": [
  {
   "cell_type": "code",
   "execution_count": 1,
   "id": "5b7c9a70",
   "metadata": {},
   "outputs": [],
   "source": [
    "%matplotlib inline\n",
    "import numpy as np\n",
    "import matplotlib.pyplot as plt\n",
    "\n",
    "from refnx.dataset import Data1D\n",
    "from refnx.analysis import Parameter, CurveFitter, Objective\n",
    "from refnx.reflect import ReflectModel, SLD, Slab\n",
    "\n",
    "from parabolic_brush import ParabolicBrush"
   ]
  },
  {
   "cell_type": "code",
   "execution_count": 2,
   "id": "746da34b",
   "metadata": {},
   "outputs": [],
   "source": [
    "# load the dataset\n",
    "# data is simulated from https://doi.org/10.1103/PhysRevLett.73.3407, fig2 in toluene.\n",
    "data = Data1D('karim_simulation.dat')"
   ]
  },
  {
   "cell_type": "code",
   "execution_count": 3,
   "id": "87ccf85f",
   "metadata": {},
   "outputs": [
    {
     "data": {
      "image/png": "[encoded data removed]",
      "text/plain": [
       "<Figure size 432x288 with 1 Axes>"
      ]
     },
     "metadata": {
      "needs_background": "light"
     },
     "output_type": "display_data"
    }
   ],
   "source": [
    "data.plot()\n",
    "plt.yscale('log')\n",
    "plt.xscale('log')"
   ]
  },
  {
   "cell_type": "code",
   "execution_count": 4,
   "id": "595ce23f",
   "metadata": {},
   "outputs": [],
   "source": [
    "# create some SLD objects\n",
    "# units are 10**-6 Å**-2\n",
    "si = SLD(2.07)\n",
    "sio2 = SLD(3.47)\n",
    "dtol = SLD(5.6)\n",
    "polymer = SLD(1.4)"
   ]
  },
  {
   "cell_type": "code",
   "execution_count": 5,
   "id": "5b3574f9",
   "metadata": {},
   "outputs": [],
   "source": [
    "# set up the brush Component. *A Component describes a subset of the interface*\n",
    "\n",
    "# parameter to hold the adsorbed amount. This is equal to the area under the volume fraction\n",
    "# profile for the dry brush. If you fit the dry data with a slab, this would be equal to the\n",
    "# thickness multiplied by the polymer volume fraction of the dry film (close to 1?).\n",
    "# Units Å\n",
    "gamma = Parameter(95., 'adsorbed amount')\n",
    "\n",
    "# roughness between brush and preceding layer (i.e. the SiO2).\n",
    "# Units Å\n",
    "lrough = Parameter(10., 'left roughness')\n",
    "\n",
    "# same brush as that in Karim1994.\n",
    "# the parameters for ParabolicBrush can be understood from the docstring for ParabolicBrush (see next cell)\n",
    "brush = ParabolicBrush(polymer, 0.175, gamma, 1.0, 150, lrough, microslab_max_thickness=1)"
   ]
  },
  {
   "cell_type": "code",
   "execution_count": 6,
   "id": "08ca3c38",
   "metadata": {},
   "outputs": [
    {
     "name": "stdout",
     "output_type": "stream",
     "text": [
      "Help on class ParabolicBrush in module parabolic_brush:\n",
      "\n",
      "class ParabolicBrush(refnx.reflect.structure.Component)\n",
      " |  ParabolicBrush(polymer_sld, phi_0, gamma, alpha, delta, rough, name='', microslab_max_thickness=1)\n",
      " |  \n",
      " |  Component describing a parabolic brush (for neutron reflection). It\n",
      " |  should be the last Component before an infinite backing medium.\n",
      " |  \n",
      " |  Parameters\n",
      " |  ----------\n",
      " |  polymer_sld: SLD\n",
      " |      SLD of the brush\n",
      " |  phi_0: Parameter or float\n",
      " |      initial volume fraction of polymer\n",
      " |  gamma: Parameter or float\n",
      " |      Total interfacial volume of polymer\n",
      " |  alpha: Parameter or float\n",
      " |      exponent of parabolic profile\n",
      " |  delta: Parameter or float\n",
      " |      delta for smearing end of parabolic profile\n",
      " |  rough: Parameter or float\n",
      " |      Roughness between this Component and `left_component`\n",
      " |  name: str\n",
      " |      Name of component\n",
      " |  microslab_max_thickness : float, optional\n",
      " |      Thickness of microslicing of spline for reflectivity calculation\n",
      " |  \n",
      " |  Notes\n",
      " |  -----\n",
      " |  The characteristic height of the brush is given by `ParabolicBrush.H`. It\n",
      " |  is not a fitting parameter, but is calculated from the unit interval and\n",
      " |  the total interfacial volume.\n",
      " |  \n",
      " |  Karim, A.; Satija, S. K.; Douglas, J. F.; Ankner, J. F.; Fetters, L. J.\n",
      " |  \"Neutron Reflectivity Study of the Density Profile of a Model End- Grafted\n",
      " |   Polymer Brush: Influence of Solvent Quality\",\n",
      " |  Phys. Rev. Lett. 1994, 73, 3407−3410.\n",
      " |  \n",
      " |  Method resolution order:\n",
      " |      ParabolicBrush\n",
      " |      refnx.reflect.structure.Component\n",
      " |      builtins.object\n",
      " |  \n",
      " |  Methods defined here:\n",
      " |  \n",
      " |  __init__(self, polymer_sld, phi_0, gamma, alpha, delta, rough, name='', microslab_max_thickness=1)\n",
      " |      Initialize self.  See help(type(self)) for accurate signature.\n",
      " |  \n",
      " |  slabs(self, structure=None)\n",
      " |      The slab representation of this component\n",
      " |      \n",
      " |      Parameters\n",
      " |      ----------\n",
      " |      structure : refnx.reflect.Structure\n",
      " |          The Structure hosting the Component.\n",
      " |      \n",
      " |      Returns\n",
      " |      -------\n",
      " |      slabs : np.ndarray\n",
      " |          Slab representation of this Component.\n",
      " |          Has shape (N, 5).\n",
      " |      \n",
      " |          - slab[N, 0]\n",
      " |             thickness of layer N\n",
      " |          - slab[N, 1]\n",
      " |             SLD.real of layer N (not including solvent)\n",
      " |          - slab[N, 2]\n",
      " |             *overall* SLD.imag of layer N (not including solvent)\n",
      " |          - slab[N, 3]\n",
      " |             roughness between layer N and N-1\n",
      " |          - slab[N, 4]\n",
      " |             volume fraction of solvent in layer N.\n",
      " |      \n",
      " |      If a Component returns None, then it doesn't have any slabs.\n",
      " |  \n",
      " |  volume_fraction(self, z)\n",
      " |  \n",
      " |  ----------------------------------------------------------------------\n",
      " |  Readonly properties defined here:\n",
      " |  \n",
      " |  H\n",
      " |      Characteristic height of the brush\n",
      " |  \n",
      " |  parameters\n",
      " |      :class:`refnx.analysis.Parameters` associated with this component\n",
      " |  \n",
      " |  ----------------------------------------------------------------------\n",
      " |  Methods inherited from refnx.reflect.structure.Component:\n",
      " |  \n",
      " |  __mul__(self, n)\n",
      " |      MUL'ing components makes them repeat.\n",
      " |      \n",
      " |      Parameters\n",
      " |      ----------\n",
      " |      n: int\n",
      " |          How many times you want to repeat the Component\n",
      " |      \n",
      " |      Returns\n",
      " |      -------\n",
      " |      s: refnx.reflect.Structure\n",
      " |          The created Structure\n",
      " |  \n",
      " |  __or__(self, other)\n",
      " |      OR'ing components can create a :class:`Structure`.\n",
      " |      \n",
      " |      Parameters\n",
      " |      ----------\n",
      " |      other: refnx.reflect.Structure, refnx.reflect.Component\n",
      " |          Combines with this component to make a Structure\n",
      " |      \n",
      " |      Returns\n",
      " |      -------\n",
      " |      s: refnx.reflect.Structure\n",
      " |          The created Structure\n",
      " |      \n",
      " |      Examples\n",
      " |      --------\n",
      " |      \n",
      " |      >>> air = SLD(0, name='air')\n",
      " |      >>> sio2 = SLD(3.47, name='SiO2')\n",
      " |      >>> si = SLD(2.07, name='Si')\n",
      " |      >>> structure = air | sio2(20, 3) | si(0, 3)\n",
      " |  \n",
      " |  __str__(self)\n",
      " |      Return str(self).\n",
      " |  \n",
      " |  logp(self)\n",
      " |      The log-probability that this Component adds to the total log-prior\n",
      " |      term. Do not include log-probability terms for the actual parameters,\n",
      " |      these are automatically included elsewhere.\n",
      " |      \n",
      " |      Returns\n",
      " |      -------\n",
      " |      logp : float\n",
      " |          Log-probability\n",
      " |  \n",
      " |  ----------------------------------------------------------------------\n",
      " |  Data descriptors inherited from refnx.reflect.structure.Component:\n",
      " |  \n",
      " |  __dict__\n",
      " |      dictionary for instance variables (if defined)\n",
      " |  \n",
      " |  __weakref__\n",
      " |      list of weak references to the object (if defined)\n",
      " |  \n",
      " |  interfaces\n",
      " |      The interfacial roughness type between each layer in `Component.slabs`.\n",
      " |      Should be one of {None, :class:`Interface`, or sequence of\n",
      " |      :class:`Interface`}.\n",
      "\n"
     ]
    }
   ],
   "source": [
    "help(ParabolicBrush)"
   ]
  },
  {
   "cell_type": "code",
   "execution_count": 7,
   "id": "f45131bc",
   "metadata": {},
   "outputs": [],
   "source": [
    "# create a silicon dioxide slab, 15Å in thickness, with a 3 Å roughness between it\n",
    "# and the preceding layer (towards the fronting medium). The slab can be made in two ways:\n",
    "# using the SLD object\n",
    "sio2_l = sio2(15, 3)\n",
    "# or by making a Slab\n",
    "sio2_l = Slab(15, sio2, 3)\n",
    "\n",
    "# now we make a Structure by linking together Components. The structure encodes the entire\n",
    "# interface.\n",
    "# We start off with a silicon block, then finish off with a d-toluene slab that has\n",
    "# 3 Å roughess between the dtoluene and the brush.\n",
    "s = si | sio2_l | brush | dtol(0, 3)"
   ]
  },
  {
   "cell_type": "code",
   "execution_count": 8,
   "id": "15bef1bc",
   "metadata": {},
   "outputs": [
    {
     "data": {
      "text/plain": [
       "[<matplotlib.lines.Line2D at 0x7fbaafea9370>]"
      ]
     },
     "execution_count": 8,
     "metadata": {},
     "output_type": "execute_result"
    },
    {
     "data": {
      "image/png": "[encoded data removed]",
      "text/plain": [
       "<Figure size 432x288 with 1 Axes>"
      ]
     },
     "metadata": {
      "needs_background": "light"
     },
     "output_type": "display_data"
    }
   ],
   "source": [
    "# let's plot the SLD profile\n",
    "s.contract = 2\n",
    "zed, sld = s.sld_profile()\n",
    "plt.plot(zed, sld)"
   ]
  },
  {
   "cell_type": "code",
   "execution_count": 9,
   "id": "e9e135f5",
   "metadata": {},
   "outputs": [
    {
     "data": {
      "text/plain": [
       "[<matplotlib.lines.Line2D at 0x7fbab0171160>]"
      ]
     },
     "execution_count": 9,
     "metadata": {},
     "output_type": "execute_result"
    },
    {
     "data": {
      "image/png": "[encoded data removed]",
      "text/plain": [
       "<Figure size 432x288 with 1 Axes>"
      ]
     },
     "metadata": {
      "needs_background": "light"
     },
     "output_type": "display_data"
    }
   ],
   "source": [
    "# plot the volume fraction profile\n",
    "z = np.linspace(0, 1000)\n",
    "vfp = brush.volume_fraction(z)\n",
    "plt.plot(z, vfp)"
   ]
  },
  {
   "cell_type": "code",
   "execution_count": 10,
   "id": "7415294e",
   "metadata": {},
   "outputs": [],
   "source": [
    "# we then put the Structure into a ReflectModel that applies instrumental smearing, etc.\n",
    "model = ReflectModel(s, bkg=5e-7, dq=4.97)"
   ]
  },
  {
   "cell_type": "code",
   "execution_count": 11,
   "id": "90d636b6",
   "metadata": {},
   "outputs": [],
   "source": [
    "# the model is combined with a dataset into an Objective\n",
    "objective = Objective(model, data)"
   ]
  },
  {
   "cell_type": "code",
   "execution_count": 12,
   "id": "c711d2d0",
   "metadata": {},
   "outputs": [
    {
     "data": {
      "image/png": "[encoded data removed]",
      "text/plain": [
       "<Figure size 432x288 with 1 Axes>"
      ]
     },
     "metadata": {
      "needs_background": "light"
     },
     "output_type": "display_data"
    }
   ],
   "source": [
    "# Let's have a look at the fit. The fit looks good because we started off with the same parameters\n",
    "# as we simulated the data with. Notice the small oscillation at the start.\n",
    "objective.plot()\n",
    "plt.yscale('log')\n",
    "plt.xscale('log')"
   ]
  },
  {
   "cell_type": "code",
   "execution_count": 13,
   "id": "3999a9e3",
   "metadata": {},
   "outputs": [],
   "source": [
    "# let's fit the data anyway. To do that we have to specify which parameters we want to fit.\n",
    "\n",
    "# this would be fitting the SLD of the d-toluene\n",
    "dtol.real.setp(vary=True, bounds=(5.3, 5.4))\n",
    "\n",
    "# silicon dioxide thickness\n",
    "sio2_l.thick.setp(vary=True, bounds=(10, 20))\n",
    "\n",
    "# adsorbed amount\n",
    "gamma.setp(vary=True, bounds=(80, 120))\n",
    "\n",
    "# phi_0, initial volume fraction of decay\n",
    "brush.phi_0.setp(vary=True, bounds=(0.1, 0.3))\n",
    "\n",
    "model.bkg.setp(vary=True, bounds=(1e-7, 1e-6))\n",
    "model.scale.setp(vary=True, bounds=(0.95, 1.05))"
   ]
  },
  {
   "cell_type": "code",
   "execution_count": 14,
   "id": "ceae7cae",
   "metadata": {},
   "outputs": [
    {
     "data": {
      "text/plain": [
       "337.82854502776564"
      ]
     },
     "execution_count": 14,
     "metadata": {},
     "output_type": "execute_result"
    }
   ],
   "source": [
    "objective.chisqr()"
   ]
  },
  {
   "cell_type": "code",
   "execution_count": 15,
   "id": "5fd726d0",
   "metadata": {},
   "outputs": [
    {
     "name": "stderr",
     "output_type": "stream",
     "text": [
      "37it [06:15, 10.15s/it]\n"
     ]
    },
    {
     "data": {
      "text/plain": [
       "   covar: array([[ 1.77036694e-05,  2.77458453e-12,  2.17223818e-04,\n",
       "         2.90977734e-06,  2.15601390e-03, -2.74242983e-06],\n",
       "       [ 2.77458453e-12,  1.98089442e-15,  3.93387106e-09,\n",
       "        -3.16250866e-12, -2.58497584e-09, -7.10362877e-13],\n",
       "       [ 2.17223818e-04,  3.93387106e-09,  7.34851195e-02,\n",
       "        -4.04116629e-05, -3.40750733e-02, -3.85058433e-05],\n",
       "       [ 2.90977734e-06, -3.16250866e-12, -4.04116629e-05,\n",
       "         1.59194828e-06,  1.25111921e-03,  3.54789939e-07],\n",
       "       [ 2.15601390e-03, -2.58497584e-09, -3.40750733e-02,\n",
       "         1.25111921e-03,  1.38371411e+00,  6.37360766e-04],\n",
       "       [-2.74242983e-06, -7.10362877e-13, -3.85058433e-05,\n",
       "         3.54789939e-07,  6.37360766e-04,  3.69908977e-06]])\n",
       "     fun: 99.75531282146585\n",
       " message: 'Optimization terminated successfully.'\n",
       "    nfev: 3903\n",
       "     nit: 37\n",
       "  stderr: array([4.20757287e-03, 4.45072401e-08, 2.71081389e-01, 1.26172433e-03,\n",
       "       1.17631378e+00, 1.92330179e-03])\n",
       " success: True\n",
       "       x: array([1.03813541e+00, 4.92217307e-07, 1.75780154e+01, 1.17824473e-01,\n",
       "       1.16344279e+02, 5.39998540e+00])"
      ]
     },
     "execution_count": 15,
     "metadata": {},
     "output_type": "execute_result"
    }
   ],
   "source": [
    "# not let's do a fit.\n",
    "fitter = CurveFitter(objective)\n",
    "fitter.fit(\"differential_evolution\")"
   ]
  },
  {
   "cell_type": "code",
   "execution_count": 16,
   "id": "44e380ac",
   "metadata": {},
   "outputs": [
    {
     "name": "stdout",
     "output_type": "stream",
     "text": [
      "________________________________________________________________________________\n",
      "Objective - 140439794980944\n",
      "Dataset = karim_simulation\n",
      "datapoints = 135\n",
      "chi2 = 2946.92842987229\n",
      "Weighted = True\n",
      "Transform = None\n",
      "________________________________________________________________________________\n",
      "Parameters:       ''       \n",
      "________________________________________________________________________________\n",
      "Parameters: 'instrument parameters'\n",
      "<Parameter:    'scale'    , value=1.03814 +/- 0.00421, bounds=[0.95, 1.05]>\n",
      "<Parameter:     'bkg'     , value=4.92217e-07 +/- 4.45e-08, bounds=[1e-07, 1e-06]>\n",
      "<Parameter:'dq - resolution', value=4.97 (fixed)  , bounds=[-inf, inf]>\n",
      "<Parameter:  'q_offset'   , value=0 (fixed)  , bounds=[-inf, inf]>\n",
      "________________________________________________________________________________\n",
      "Parameters: 'Structure - ' \n",
      "________________________________________________________________________________\n",
      "Parameters:       ''       \n",
      "<Parameter:  ' - thick'   , value=0 (fixed)  , bounds=[-inf, inf]>\n",
      "<Parameter:   ' - sld'    , value=2.07 (fixed)  , bounds=[-inf, inf]>\n",
      "<Parameter:   ' - isld'   , value=0 (fixed)  , bounds=[-inf, inf]>\n",
      "<Parameter:  ' - rough'   , value=0 (fixed)  , bounds=[-inf, inf]>\n",
      "<Parameter:' - volfrac solvent', value=0 (fixed)  , bounds=[0.0, 1.0]>\n",
      "________________________________________________________________________________\n",
      "Parameters:       ''       \n",
      "<Parameter:  ' - thick'   , value=17.578 +/- 0.271, bounds=[10.0, 20.0]>\n",
      "<Parameter:   ' - sld'    , value=3.47 (fixed)  , bounds=[-inf, inf]>\n",
      "<Parameter:   ' - isld'   , value=0 (fixed)  , bounds=[-inf, inf]>\n",
      "<Parameter:  ' - rough'   , value=3 (fixed)  , bounds=[-inf, inf]>\n",
      "<Parameter:' - volfrac solvent', value=0 (fixed)  , bounds=[0.0, 1.0]>\n",
      "________________________________________________________________________________\n",
      "Parameters:       ''       \n",
      "________________________________________________________________________________\n",
      "Parameters:       ''       \n",
      "<Parameter:   ' - sld'    , value=1.4 (fixed)  , bounds=[-inf, inf]>\n",
      "<Parameter:   ' - isld'   , value=0 (fixed)  , bounds=[-inf, inf]>\n",
      "<Parameter:  ' - phi_0'   , value=0.117824 +/- 0.00126, bounds=[0.1, 0.3]>\n",
      "<Parameter:'adsorbed amount', value=116.344 +/- 1.18 , bounds=[80.0, 120.0]>\n",
      "<Parameter:  ' - alpha'   , value=1 (fixed)  , bounds=[-inf, inf]>\n",
      "<Parameter:  ' - delta'   , value=150 (fixed)  , bounds=[-inf, inf]>\n",
      "<Parameter:'left roughness', value=10 (fixed)  , bounds=[-inf, inf]>\n",
      "________________________________________________________________________________\n",
      "Parameters:       ''       \n",
      "<Parameter:  ' - thick'   , value=0 (fixed)  , bounds=[-inf, inf]>\n",
      "<Parameter:   ' - sld'    , value=5.39999 +/- 0.00192, bounds=[5.3, 5.4]>\n",
      "<Parameter:   ' - isld'   , value=0 (fixed)  , bounds=[-inf, inf]>\n",
      "<Parameter:  ' - rough'   , value=3 (fixed)  , bounds=[-inf, inf]>\n",
      "<Parameter:' - volfrac solvent', value=0 (fixed)  , bounds=[0.0, 1.0]>\n"
     ]
    }
   ],
   "source": [
    "# have a look at the ouput parameters and their uncertainties\n",
    "print(objective)"
   ]
  },
  {
   "cell_type": "code",
   "execution_count": null,
   "id": "dc4f7e9d",
   "metadata": {},
   "outputs": [],
   "source": []
  }
 ],
 "metadata": {
  "kernelspec": {
   "display_name": "Python 3 (ipykernel)",
   "language": "python",
   "name": "python3"
  },
  "language_info": {
   "codemirror_mode": {
    "name": "ipython",
    "version": 3
   },
   "file_extension": ".py",
   "mimetype": "text/x-python",
   "name": "python",
   "nbconvert_exporter": "python",
   "pygments_lexer": "ipython3",
   "version": "3.8.10"
  }
 },
 "nbformat": 4,
 "nbformat_minor": 5
}
