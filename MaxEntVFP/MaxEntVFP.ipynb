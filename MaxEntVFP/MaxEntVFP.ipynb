{
 "cells": [
  {
   "cell_type": "code",
   "execution_count": null,
   "metadata": {},
   "outputs": [],
   "source": [
    "%matplotlib inline\n",
    "import numpy as np\n",
    "import matplotlib.pyplot as plt\n",
    "from scipy.stats import norm, beta\n",
    "import pandas as pd\n",
    "from scipy.optimize import differential_evolution\n",
    "\n",
    "from refnx.reflect import Structure, Component, SLD, Slab, ReflectModel\n",
    "from refnx.reflect.interface import Erf\n",
    "from refnx.analysis import Parameters, Parameter, possibly_create_parameter, PDF, Objective, CurveFitter, process_chain\n",
    "from maxent import MaxEntVFP, MaxEntVFP_alternate\n",
    "from refnx.dataset import ReflectDataset\n",
    "\n",
    "from Code.Utilities import unpack_values\n"
   ]
  },
  {
   "cell_type": "code",
   "execution_count": null,
   "metadata": {},
   "outputs": [],
   "source": [
    "data = ReflectDataset('Data/PNIPAM d2o 25C.dat')"
   ]
  },
  {
   "cell_type": "code",
   "execution_count": null,
   "metadata": {},
   "outputs": [],
   "source": [
    "data.plot()\n",
    "plt.yscale('log')"
   ]
  },
  {
   "cell_type": "code",
   "execution_count": 4,
   "metadata": {},
   "outputs": [
    {
     "data": {
      "text/html": [
       "<div>\n",
       "<style scoped>\n",
       "    .dataframe tbody tr th:only-of-type {\n",
       "        vertical-align: middle;\n",
       "    }\n",
       "\n",
       "    .dataframe tbody tr th {\n",
       "        vertical-align: top;\n",
       "    }\n",
       "\n",
       "    .dataframe thead th {\n",
       "        text-align: right;\n",
       "    }\n",
       "</style>\n",
       "<table border=\"1\" class=\"dataframe\">\n",
       "  <thead>\n",
       "    <tr style=\"text-align: right;\">\n",
       "      <th></th>\n",
       "      <th>silica thick</th>\n",
       "      <th>silica SLD</th>\n",
       "      <th>silica-SiO2 rough</th>\n",
       "      <th>silica vfsolv</th>\n",
       "      <th>PNIPAM thick</th>\n",
       "      <th>PNIPAM SLD</th>\n",
       "      <th>PNIPAM vfsolv</th>\n",
       "      <th>PNIPAM volume</th>\n",
       "    </tr>\n",
       "  </thead>\n",
       "  <tbody>\n",
       "    <tr>\n",
       "      <th>q1</th>\n",
       "      <td>16.578260</td>\n",
       "      <td>3.293231</td>\n",
       "      <td>10.844933</td>\n",
       "      <td>0.076289</td>\n",
       "      <td>125.240686</td>\n",
       "      <td>0.575200</td>\n",
       "      <td>0.097191</td>\n",
       "      <td>110.527870</td>\n",
       "    </tr>\n",
       "    <tr>\n",
       "      <th>q2</th>\n",
       "      <td>18.559324</td>\n",
       "      <td>3.455169</td>\n",
       "      <td>12.826823</td>\n",
       "      <td>0.091450</td>\n",
       "      <td>125.762557</td>\n",
       "      <td>0.589260</td>\n",
       "      <td>0.110819</td>\n",
       "      <td>111.840543</td>\n",
       "    </tr>\n",
       "    <tr>\n",
       "      <th>q3</th>\n",
       "      <td>20.867145</td>\n",
       "      <td>3.616602</td>\n",
       "      <td>14.443033</td>\n",
       "      <td>0.107877</td>\n",
       "      <td>126.331105</td>\n",
       "      <td>0.606567</td>\n",
       "      <td>0.121890</td>\n",
       "      <td>113.472781</td>\n",
       "    </tr>\n",
       "    <tr>\n",
       "      <th>stdev</th>\n",
       "      <td>1.094103</td>\n",
       "      <td>0.082492</td>\n",
       "      <td>0.917883</td>\n",
       "      <td>0.008058</td>\n",
       "      <td>0.278168</td>\n",
       "      <td>0.008002</td>\n",
       "      <td>0.006301</td>\n",
       "      <td>0.751253</td>\n",
       "    </tr>\n",
       "  </tbody>\n",
       "</table>\n",
       "</div>"
      ],
      "text/plain": [
       "       silica thick  silica SLD  silica-SiO2 rough  silica vfsolv  \\\n",
       "q1        16.578260    3.293231          10.844933       0.076289   \n",
       "q2        18.559324    3.455169          12.826823       0.091450   \n",
       "q3        20.867145    3.616602          14.443033       0.107877   \n",
       "stdev      1.094103    0.082492           0.917883       0.008058   \n",
       "\n",
       "       PNIPAM thick  PNIPAM SLD  PNIPAM vfsolv  PNIPAM volume  \n",
       "q1       125.240686    0.575200       0.097191     110.527870  \n",
       "q2       125.762557    0.589260       0.110819     111.840543  \n",
       "q3       126.331105    0.606567       0.121890     113.472781  \n",
       "stdev      0.278168    0.008002       0.006301       0.751253  "
      ]
     },
     "execution_count": 4,
     "metadata": {},
     "output_type": "execute_result"
    }
   ],
   "source": [
    "prior_values = pd.read_csv('SiO2 characterisation.csv',\n",
    "                           index_col=0,\n",
    "                           header=0,\n",
    "                           names=['silica thick', 'silica SLD', \n",
    "                                  'silica-SiO2 rough', 'silica vfsolv',\n",
    "                                  'PNIPAM thick', 'PNIPAM SLD',\n",
    "                                  'PNIPAM vfsolv', 'PNIPAM volume'])\n",
    "\n",
    "polymer_ads_amt, polymer_ads_amt_bounds, polymer_ads_amt_dist       = unpack_values(prior_values['PNIPAM volume'])\n",
    "sio2_thickness, sio2_thickness_bounds, sio2_thickness_dist          = unpack_values(prior_values['silica thick'])\n",
    "sio2_sld, sio2_sld_bounds, sio2_sld_dist                            = unpack_values(prior_values['silica SLD'])\n",
    "sio2_vfsolv, sio2_vfsolv_bounds, sio2_vfsolv_dist                   = unpack_values(prior_values['silica vfsolv'])\n",
    "si_sio2_roughness, si_sio2_roughness_bounds, si_sio2_roughness_dist = unpack_values(prior_values['silica-SiO2 rough'])\n",
    "\n",
    "sio2_poly_rough = 1\n",
    "\n",
    "prior_values"
   ]
  },
  {
   "cell_type": "code",
   "execution_count": 5,
   "metadata": {},
   "outputs": [],
   "source": [
    "# Materials\n",
    "si      = SLD(2.07, 'si')\n",
    "sio2    = SLD(sio2_sld, 'sio2')\n",
    "polymer = SLD(0.8, 'PNIPAM')\n",
    "solvent = SLD(6.2, 'd2o')\n",
    "polymer.real.setp(vary=True, bounds=(0.72, 1.25))\n",
    "solvent.real.setp(vary=True, bounds=(6.15, 6.35))\n",
    "\n",
    "# Silicon\n",
    "si_l          = si(0, 0)\n",
    "\n",
    "# Silica\n",
    "sio2_l        = sio2(sio2_thickness, si_sio2_roughness)\n",
    "sio2_l.thick.setp (vary=True, bounds=sio2_thickness_dist)\n",
    "sio2_l.sld.real.setp (vary=True, bounds=sio2_sld_dist)\n",
    "sio2_l.vfsolv.setp (vary=True, value=sio2_vfsolv,\n",
    "                    bounds=sio2_vfsolv_dist)\n",
    "sio2_l.rough.setp (vary=True, value=si_sio2_roughness,\n",
    "                   bounds=si_sio2_roughness_dist)\n",
    "\n",
    "# adsorbed amount\n",
    "# If you use MaxEntVFP then you should set vary=False. In addition you should\n",
    "# not use a distribution that has closed support (e.g. truncnorm).\n",
    "# It's easy for the area under the VFP to exceed distribution support.\n",
    "\n",
    "# If you use MaxEntVFP_alternate then you can enable vary=True, if desired. You\n",
    "# can also use distributions with closed support.\n",
    "gamma = Parameter(polymer_ads_amt, 'adsorbed amount', vary=True)\n",
    "gamma.bounds = PDF(polymer_ads_amt_dist)\n",
    "# gamma.bounds = PDF(norm(loc=111.8, scale=0.74))"
   ]
  },
  {
   "cell_type": "code",
   "execution_count": 6,
   "metadata": {},
   "outputs": [],
   "source": [
    "# x = np.linspace(106, 120, 101)\n",
    "# plt.plot(x, gamma.bounds.rv.pdf(x))\n",
    "# plt.plot(x, norm.pdf(x, loc=111.8,scale=0.74))"
   ]
  },
  {
   "cell_type": "code",
   "execution_count": 7,
   "metadata": {},
   "outputs": [],
   "source": [
    "lslab = polymer(13.5, 1)\n",
    "lslab.thick.setp(vary=True, bounds=(2, 25))\n",
    "lslab.vfsolv.setp(0.217, vary=True, bounds=(0.1, 0.8))\n",
    "lslab.rough.setp(1, vary=True, bounds=(1, 4))"
   ]
  },
  {
   "cell_type": "code",
   "execution_count": 8,
   "metadata": {},
   "outputs": [
    {
     "name": "stderr",
     "output_type": "stream",
     "text": [
      "/Users/anz/miniconda3/envs/dev3/lib/python3.9/site-packages/scipy/stats/_continuous_distns.py:670: RuntimeWarning: divide by zero encountered in _beta_pdf\n",
      "  return _boost._beta_pdf(x, a, b)\n"
     ]
    },
    {
     "data": {
      "image/png": "[encoded data removed]",
      "text/plain": [
       "<Figure size 432x288 with 1 Axes>"
      ]
     },
     "metadata": {
      "needs_background": "light"
     },
     "output_type": "display_data"
    }
   ],
   "source": [
    "# 1/alpha scales the entropy term.\n",
    "dist = beta(0.7, 500)\n",
    "alpha = Parameter(0.01, 'alpha', vary=True)\n",
    "alpha.bounds = PDF(dist)\n",
    "\n",
    "_x = np.geomspace(1e-5, 1, 101)\n",
    "plt.plot(_x, dist.pdf(_x))\n",
    "plt.xscale('log');"
   ]
  },
  {
   "cell_type": "code",
   "execution_count": 9,
   "metadata": {},
   "outputs": [],
   "source": [
    "# if the dry thickness is 100, and the total extent that we'll model\n",
    "# is 1000, then a good guess for an average vf = 100/1000. So set\n",
    "# mj to that value.\n",
    "\n",
    "brush = MaxEntVFP_alternate(gamma, polymer, mj=0.1, npixels=70, left_slabs=(lslab,), alpha=alpha,\n",
    "                  monotonic=True, max_slab_size=40)\n",
    "\n",
    "# gamma.setp(vary=False)\n",
    "# brush = MaxEntVFP(gamma, polymer, mj=0.1, extent=1800, left_slabs=(lslab,), alpha=alpha,\n",
    "#                   monotonic=True, microslab_max_thickness=25)\n",
    "for p in brush.vff:\n",
    "    p.setp(1, vary=True, bounds=(0.5, 1.0))\n",
    "    \n",
    "brush.vff[0].setp(0.1, bounds=(0.05, 0.4))"
   ]
  },
  {
   "cell_type": "code",
   "execution_count": 10,
   "metadata": {},
   "outputs": [
    {
     "data": {
      "text/plain": [
       "(111.84054281225346, 111.84054281225347)"
      ]
     },
     "execution_count": 10,
     "metadata": {},
     "output_type": "execute_result"
    }
   ],
   "source": [
    "brush.gamma(), brush.adsorbed_amount.value"
   ]
  },
  {
   "cell_type": "code",
   "execution_count": 11,
   "metadata": {},
   "outputs": [
    {
     "name": "stdout",
     "output_type": "stream",
     "text": [
      "111.84054281225346\n"
     ]
    },
    {
     "data": {
      "image/png": "[encoded data removed]",
      "text/plain": [
       "<Figure size 432x288 with 1 Axes>"
      ]
     },
     "metadata": {
      "needs_background": "light"
     },
     "output_type": "display_data"
    }
   ],
   "source": [
    "plt.plot(*brush.profile());\n",
    "print(brush.gamma())"
   ]
  },
  {
   "cell_type": "code",
   "execution_count": 12,
   "metadata": {},
   "outputs": [],
   "source": [
    "s = si | sio2_l | lslab | brush | solvent(0, 0)\n",
    "\n",
    "s.contract = 1.5\n",
    "model = ReflectModel(s, bkg=8e-7, dq=8.55)\n",
    "model.dq_type = 'constant'\n",
    "model.scale.setp(0.75, vary=True, bounds=(0.7, 0.8))\n",
    "model.bkg.setp(vary=True, bounds=(7e-7, 1.3e-6))\n",
    "model.threads = 1"
   ]
  },
  {
   "cell_type": "code",
   "execution_count": 13,
   "metadata": {},
   "outputs": [],
   "source": [
    "objective = Objective(model, data)"
   ]
  },
  {
   "cell_type": "code",
   "execution_count": 14,
   "metadata": {},
   "outputs": [],
   "source": [
    "fitter = CurveFitter(objective)"
   ]
  },
  {
   "cell_type": "code",
   "execution_count": 15,
   "metadata": {},
   "outputs": [
    {
     "name": "stderr",
     "output_type": "stream",
     "text": [
      "1000it [16:15,  1.05it/s]/Users/anz/miniconda3/envs/dev3/lib/python3.9/site-packages/scipy/optimize/_numdiff.py:576: RuntimeWarning: invalid value encountered in subtract\n",
      "  df = fun(x) - f0\n",
      "1000it [16:15,  1.02it/s]\n"
     ]
    }
   ],
   "source": [
    "fitter.fit('differential_evolution', target='nlpost', popsize=3,);\n",
    "#            x0=np.array(objective.varying_parameters()));"
   ]
  },
  {
   "cell_type": "code",
   "execution_count": 19,
   "metadata": {
    "scrolled": false
   },
   "outputs": [
    {
     "data": {
      "image/png": "[encoded data removed]",
      "text/plain": [
       "<Figure size 432x288 with 1 Axes>"
      ]
     },
     "metadata": {
      "needs_background": "light"
     },
     "output_type": "display_data"
    },
    {
     "data": {
      "image/png": "[encoded data removed]",
      "text/plain": [
       "<Figure size 432x288 with 1 Axes>"
      ]
     },
     "metadata": {
      "needs_background": "light"
     },
     "output_type": "display_data"
    }
   ],
   "source": [
    "plt.plot(*brush.profile(), label='original');\n",
    "plt.legend();\n",
    "# plt.xlim(0, 1000)\n",
    "plt.ylim(0, 0.3)\n",
    "objective.plot()\n",
    "plt.yscale('log')\n",
    "plt.xscale('log')\n",
    "# plt.plot(data.x, (objective.generative() - data.y)/data.y_err)"
   ]
  },
  {
   "cell_type": "code",
   "execution_count": null,
   "metadata": {},
   "outputs": [],
   "source": [
    "fitter.initialise('jitter')"
   ]
  },
  {
   "cell_type": "code",
   "execution_count": null,
   "metadata": {},
   "outputs": [],
   "source": [
    "fitter.sample(800, nthin=1, pool=-1);"
   ]
  },
  {
   "cell_type": "code",
   "execution_count": null,
   "metadata": {},
   "outputs": [],
   "source": [
    "fitter.reset()\n",
    "# fitter.sample(1, pool=1);"
   ]
  },
  {
   "cell_type": "code",
   "execution_count": null,
   "metadata": {},
   "outputs": [],
   "source": [
    "fitter.sample(20, nthin=2000, pool=-1);"
   ]
  },
  {
   "cell_type": "code",
   "execution_count": null,
   "metadata": {},
   "outputs": [],
   "source": [
    "plt.plot(*brush.profile());\n",
    "plt.xlim(0, 2000)\n",
    "plt.ylim(0, 0.3)\n",
    "objective.plot()\n",
    "plt.yscale('log')\n",
    "plt.xscale('log')\n",
    "# profile_alternate = brush.profile()"
   ]
  },
  {
   "cell_type": "code",
   "execution_count": 17,
   "metadata": {},
   "outputs": [
    {
     "data": {
      "text/plain": [
       "227.43101604445306"
      ]
     },
     "execution_count": 17,
     "metadata": {},
     "output_type": "execute_result"
    }
   ],
   "source": [
    "objective.chisqr()"
   ]
  },
  {
   "cell_type": "code",
   "execution_count": null,
   "metadata": {},
   "outputs": [],
   "source": []
  }
 ],
 "metadata": {
  "kernelspec": {
   "display_name": "Python 3 (ipykernel)",
   "language": "python",
   "name": "python3"
  },
  "language_info": {
   "codemirror_mode": {
    "name": "ipython",
    "version": 3
   },
   "file_extension": ".py",
   "mimetype": "text/x-python",
   "name": "python",
   "nbconvert_exporter": "python",
   "pygments_lexer": "ipython3",
   "version": "3.9.12"
  }
 },
 "nbformat": 4,
 "nbformat_minor": 4
}
